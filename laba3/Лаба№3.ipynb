{
 "cells": [
  {
   "cell_type": "markdown",
   "id": "da6b9984-e0b9-4a0c-b6fa-4dc7dba2b80f",
   "metadata": {},
   "source": [
    "Задание №1"
   ]
  },
  {
   "cell_type": "code",
   "execution_count": 1,
   "id": "3f78da85-26d0-4321-b837-45d6b0d99a00",
   "metadata": {},
   "outputs": [
    {
     "name": "stdin",
     "output_type": "stream",
     "text": [
      "Выберите вариант чтения 1 или 2:  1\n"
     ]
    },
    {
     "name": "stdout",
     "output_type": "stream",
     "text": [
      "1\n",
      "I like twix\n",
      "yes i too\n",
      "yep \n",
      "yep \n",
      "\n"
     ]
    }
   ],
   "source": [
    "a = input('Choose 1 or 2: ')\n",
    "print(a)\n",
    "if int(a)==1:\n",
    "    f=open(r\"example.txt\").read()\n",
    "    print (f)\n",
    "else:\n",
    "    f=open(r\"example.txt\").readlines ()\n",
    "    print (f)"
   ]
  },
  {
   "cell_type": "markdown",
   "id": "aed067b3-1b77-4806-b2a4-731eca0e8fab",
   "metadata": {},
   "source": [
    "Задание №2"
   ]
  },
  {
   "cell_type": "code",
   "execution_count": 6,
   "id": "9eadd42d-262b-461d-96e5-4d872e2f6e2d",
   "metadata": {},
   "outputs": [
    {
     "name": "stdin",
     "output_type": "stream",
     "text": [
      " yep\n"
     ]
    }
   ],
   "source": [
    "us = input()\n",
    "with open(\"user_input.txt\",\"a\") as file:\n",
    "    file.writelines(f\"{us} \\n\")"
   ]
  },
  {
   "cell_type": "code",
   "execution_count": 7,
   "id": "6d41ea3d-aa6c-4910-9e4c-18c95e41f5ca",
   "metadata": {},
   "outputs": [
    {
     "name": "stdout",
     "output_type": "stream",
     "text": [
      "yep \n",
      "yep \n",
      "\n"
     ]
    }
   ],
   "source": [
    "with open(\"user_input.txt\",\"r\") as file:\n",
    "    cont = file.read()\n",
    "print(cont)"
   ]
  },
  {
   "cell_type": "markdown",
   "id": "9b823389-2dd7-4879-be37-b038b894d2d3",
   "metadata": {},
   "source": [
    "Задание №3"
   ]
  },
  {
   "cell_type": "code",
   "execution_count": 3,
   "id": "92c0da16-638f-438a-bd60-c119ec0cd8eb",
   "metadata": {},
   "outputs": [
    {
     "name": "stdin",
     "output_type": "stream",
     "text": [
      "Enter file name:  example.txt\n"
     ]
    },
    {
     "name": "stdout",
     "output_type": "stream",
     "text": [
      "I like twix\n",
      "yes i too\n",
      "yep \n",
      "\n"
     ]
    }
   ],
   "source": [
    "fn = input(\"Enter file name: \")\n",
    "try: \n",
    "    with open(fn, \"r\") as file:\n",
    "        cont = file.read()\n",
    "except FileNotFoundError:\n",
    "    print(\"File not found, try again\")\n",
    "    exit()\n",
    "print(cont)"
   ]
  },
  {
   "cell_type": "code",
   "execution_count": 1,
   "id": "57a34522-41fd-441c-894e-4cbfdcd917dd",
   "metadata": {},
   "outputs": [
    {
     "name": "stdin",
     "output_type": "stream",
     "text": [
      " фыв\n",
      " фыв\n",
      " 123\n"
     ]
    },
    {
     "name": "stdout",
     "output_type": "stream",
     "text": [
      "<__main__.Book object at 0x000001EED07A1F10>\n"
     ]
    }
   ],
   "source": [
    "class Book:\n",
    "    def __init__(self, title, author, year):\n",
    "        self.title = title\n",
    "        self.author = author\n",
    "        self.year = year\n",
    "\n",
    "    def get_info(self):\n",
    "        return f\"Название:{self.title},Автор :{self.author},Год выпуска:{self.year}\"\n",
    "\n",
    "title, author, year = input().strip(), input().strip(), int(input().strip()) \n",
    "book = Book(title, author, year) \n",
    "print(book) "
   ]
  },
  {
   "cell_type": "code",
   "execution_count": null,
   "id": "8eba0d82-9665-47d9-aebd-a05bc2dcbdae",
   "metadata": {},
   "outputs": [],
   "source": []
  }
 ],
 "metadata": {
  "kernelspec": {
   "display_name": "Python 3 (ipykernel)",
   "language": "python",
   "name": "python3"
  },
  "language_info": {
   "codemirror_mode": {
    "name": "ipython",
    "version": 3
   },
   "file_extension": ".py",
   "mimetype": "text/x-python",
   "name": "python",
   "nbconvert_exporter": "python",
   "pygments_lexer": "ipython3",
   "version": "3.12.6"
  }
 },
 "nbformat": 4,
 "nbformat_minor": 5
}
