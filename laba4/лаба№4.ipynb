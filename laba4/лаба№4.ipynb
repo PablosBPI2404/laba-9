{
 "cells": [
  {
   "cell_type": "markdown",
   "id": "f2fecd77-6c39-4ac9-ad87-14979c3b8380",
   "metadata": {},
   "source": [
    "Задание №1\n"
   ]
  },
  {
   "cell_type": "code",
   "execution_count": 21,
   "id": "0c164cc7-1eff-462f-942d-dfe18846de36",
   "metadata": {},
   "outputs": [
    {
     "name": "stdout",
     "output_type": "stream",
     "text": [
      "Квадратный корень числа 25 равен 5.0\n"
     ]
    }
   ],
   "source": [
    "import math\n",
    "\n",
    "num = 25\n",
    "sqrt_num = math.sqrt(num)\n",
    "print(f\"Квадратный корень числа {num} равен {sqrt_num}\")"
   ]
  },
  {
   "cell_type": "code",
   "execution_count": 3,
   "id": "288b908b-983c-48c5-856e-441294bfeb27",
   "metadata": {},
   "outputs": [
    {
     "name": "stdout",
     "output_type": "stream",
     "text": [
      "Today's date: 2024-10-11 14:56:11.896557\n"
     ]
    }
   ],
   "source": [
    "from datetime import*\n",
    "print(\"Today's date:\", datetime.now())"
   ]
  },
  {
   "cell_type": "markdown",
   "id": "6ce3ce4c-0759-4fa3-b9f6-e002256d32ba",
   "metadata": {},
   "source": [
    "Задание №2"
   ]
  },
  {
   "cell_type": "code",
   "execution_count": 1,
   "id": "3c1a9346-a6e0-452c-baa2-3f12d49a32db",
   "metadata": {},
   "outputs": [
    {
     "name": "stdout",
     "output_type": "stream",
     "text": [
      "Результат сложения: 8\n"
     ]
    }
   ],
   "source": [
    "import my_module\n",
    "result = my_module.add(5, 3)\n",
    "print(f\"Результат сложения: {result}\")"
   ]
  },
  {
   "cell_type": "markdown",
   "id": "56e54173-f62b-4848-b4c8-efc585c80f71",
   "metadata": {},
   "source": [
    "Задание №3"
   ]
  },
  {
   "cell_type": "code",
   "execution_count": 2,
   "id": "cd599c6e-19e9-4b7f-9b66-7f78ecf78d63",
   "metadata": {},
   "outputs": [
    {
     "name": "stdout",
     "output_type": "stream",
     "text": [
      "Результат выполнения: 6\n"
     ]
    }
   ],
   "source": [
    "import modules\n",
    "res = \n",
    "print(f\"Результат выполнения: {res}\")"
   ]
  }
 ],
 "metadata": {
  "kernelspec": {
   "display_name": "Python 3 (ipykernel)",
   "language": "python",
   "name": "python3"
  },
  "language_info": {
   "codemirror_mode": {
    "name": "ipython",
    "version": 3
   },
   "file_extension": ".py",
   "mimetype": "text/x-python",
   "name": "python",
   "nbconvert_exporter": "python",
   "pygments_lexer": "ipython3",
   "version": "3.12.6"
  }
 },
 "nbformat": 4,
 "nbformat_minor": 5
}
