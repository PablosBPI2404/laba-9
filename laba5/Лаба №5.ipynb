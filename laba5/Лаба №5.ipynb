{
 "cells": [
  {
   "cell_type": "markdown",
   "id": "f4784c01-8fc8-4e8b-93b1-d94e24a46154",
   "metadata": {},
   "source": [
    "Задание №1"
   ]
  },
  {
   "cell_type": "code",
   "execution_count": 3,
   "id": "6fc24948-8092-4441-9aeb-417d7a184e7d",
   "metadata": {},
   "outputs": [
    {
     "name": "stdout",
     "output_type": "stream",
     "text": [
      "Название книги: Ялквмом, Автор: Жак Фреско, Год написания: 1945\n"
     ]
    }
   ],
   "source": [
    "class Book:\n",
    "    def __init__(self, title, author, year):\n",
    "        self.title = title\n",
    "        self.author = author\n",
    "        self.year = year\n",
    "    def get_info(self):\n",
    "        return f\"Название книги: {self.title}, Автор: {self.author}, Год написания: {self.year}\"\n",
    "book = Book(\"Ялквмом\", \"Жак Фреско\", 1945)\n",
    "print(book.get_info())"
   ]
  },
  {
   "cell_type": "markdown",
   "id": "382946bb-7c00-480f-be1a-17d761f2775a",
   "metadata": {},
   "source": [
    "Задание №2"
   ]
  },
  {
   "cell_type": "code",
   "execution_count": 2,
   "id": "719d6b7c-1b81-4866-b653-ad8594b8283e",
   "metadata": {},
   "outputs": [
    {
     "name": "stdout",
     "output_type": "stream",
     "text": [
      "Радиус в данный момет =  7\n",
      "Новый радиус =  15\n"
     ]
    }
   ],
   "source": [
    "class Circle:\n",
    "    def __init__(self, radius):\n",
    "        self.radius = radius\n",
    "    def get_radius(self):\n",
    "        return self.radius\n",
    "    def set_radius(self, new_radius):\n",
    "        self.radius = new_radius\n",
    "circle = Circle(7)\n",
    "print(\"Радиус в данный момет = \", circle.get_radius())\n",
    "circle.set_radius(15) \n",
    "print(\"Новый радиус = \", circle.get_radius())"
   ]
  },
  {
   "cell_type": "code",
   "execution_count": null,
   "id": "510e4bc2-3643-475a-a04e-23cc8095cc28",
   "metadata": {},
   "outputs": [],
   "source": []
  }
 ],
 "metadata": {
  "kernelspec": {
   "display_name": "Python 3 (ipykernel)",
   "language": "python",
   "name": "python3"
  },
  "language_info": {
   "codemirror_mode": {
    "name": "ipython",
    "version": 3
   },
   "file_extension": ".py",
   "mimetype": "text/x-python",
   "name": "python",
   "nbconvert_exporter": "python",
   "pygments_lexer": "ipython3",
   "version": "3.12.6"
  }
 },
 "nbformat": 4,
 "nbformat_minor": 5
}
