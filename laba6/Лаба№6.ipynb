{
 "cells": [
  {
   "cell_type": "markdown",
   "id": "59ad248f-822e-49bf-b8b5-001f54d7b320",
   "metadata": {},
   "source": [
    "Задание №1"
   ]
  },
  {
   "cell_type": "code",
   "execution_count": 2,
   "id": "19fb4e84-116d-403f-9874-88a6ce5fb63d",
   "metadata": {},
   "outputs": [
    {
     "name": "stdout",
     "output_type": "stream",
     "text": [
      "User: maksimov, Email: maksimovpavlo@gmail.com, Password:587511432\n",
      "True\n",
      "True\n"
     ]
    }
   ],
   "source": [
    "class UserAccount:\n",
    "    def __init__(self, username, email, password):\n",
    "        self.username = username\n",
    "        self.email = email\n",
    "        self.__password = password\n",
    "    def set_password(self, new_password):\n",
    "        self.__password = new_password\n",
    "    def check_password(self, password):\n",
    "        return self.__password == password\n",
    "    def get_user_info(self):\n",
    "        return f\"User: {self.username}, Email: {self.email}, Password:{self.__password}\"\n",
    "mpk = UserAccount(username=\"maksimov\", email=\"maksimovpavlo@gmail.com\", password=\"587511432\")\n",
    "print(mpk.get_user_info())\n",
    "mpk.set_password(\"587511432\")\n",
    "print(mpk.check_password(\"587511432\"))\n",
    "print(mpk.check_password(\"587511432\"))"
   ]
  },
  {
   "cell_type": "markdown",
   "id": "f77cf988-c5eb-432b-8954-5cb81ff4bf2f",
   "metadata": {},
   "source": [
    "Задание №2"
   ]
  },
  {
   "cell_type": "code",
   "execution_count": 6,
   "id": "06ba6b6a-add2-4396-904c-6fa2359b7f07",
   "metadata": {},
   "outputs": [
    {
     "name": "stdout",
     "output_type": "stream",
     "text": [
      "Mark:Lamborghini, Model:Urus, Fuel type: Petrol\n"
     ]
    }
   ],
   "source": [
    "class Vehicle:\n",
    "    def __init__(self, mark, model):\n",
    "        self.mark = mark\n",
    "        self.model = model\n",
    "    def get_info(self):\n",
    "        return f\"Марка: {self.mark}, Модель: {self.model}\"\n",
    "class Car(Vehicle):\n",
    "    def __init__(self, mark, model, fuel_type):\n",
    "        super().__init__(mark, model)\n",
    "        self.fuel_type = fuel_type \n",
    "\n",
    "    def get_info(self):\n",
    "         return f\"Mark:{self.mark}, Model:{self.model}, Fuel type: {self.fuel_type}\"\n",
    "mcar = Car(\"Lamborghini\", \"Urus\", \"Petrol\")\n",
    "print(mcar.get_info())"
   ]
  }
 ],
 "metadata": {
  "kernelspec": {
   "display_name": "Python 3 (ipykernel)",
   "language": "python",
   "name": "python3"
  },
  "language_info": {
   "codemirror_mode": {
    "name": "ipython",
    "version": 3
   },
   "file_extension": ".py",
   "mimetype": "text/x-python",
   "name": "python",
   "nbconvert_exporter": "python",
   "pygments_lexer": "ipython3",
   "version": "3.12.6"
  }
 },
 "nbformat": 4,
 "nbformat_minor": 5
}
