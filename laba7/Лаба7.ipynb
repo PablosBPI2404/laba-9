{
 "cells": [
  {
   "cell_type": "code",
   "execution_count": 5,
   "id": "fb1f56d3-5228-4665-bf7f-f2ac8d279a74",
   "metadata": {},
   "outputs": [
    {
     "name": "stdout",
     "output_type": "stream",
     "text": [
      "Employee Name: Pablos, ID: 1\n",
      "Employee Name: Maksimov, ID: 31, Department: Sell\n",
      "Manager Maksimov is managing the project: Chill in department Sell\n",
      "Employee Name: Papa, ID: 52, Specialization: BOYYYYYY\n",
      "Technician Papa with specialization in BOYYYYYY is maintaining XZ\n",
      "TechManager Info: Employee Name: BIg, ID: 21, Specialization: programs, Department: IT\n",
      "TechManager BIg's Team:\n",
      " - Employee Name: Pablos, ID: 1\n",
      " - Employee Name: Maksimov, ID: 31, Department: Sell\n",
      " - Employee Name: Papa, ID: 52, Specialization: BOYYYYYY\n",
      "\n",
      "Manager BIg is managing the project: GIGA CHAD in department IT\n",
      "Technician BIg with specialization in programs is maintaining 7ds Grand cross\n"
     ]
    }
   ],
   "source": [
    "class Employee:\n",
    "    def __init__(self, name, emp_id):\n",
    "        self.name = name\n",
    "        self.emp_id = emp_id\n",
    "    def get_info(self):\n",
    "        return f\"Employee Name: {self.name}, ID: {self.emp_id}\"\n",
    "\n",
    "\n",
    "class Manager(Employee):\n",
    "    def __init__(self, name, emp_id, department):\n",
    "        Employee.__init__(self, name, emp_id,)\n",
    "        self.department = department\n",
    "    def manage_project(self, project_name):\n",
    "        return f\"Manager {self.name} is managing the project: {project_name} in department {self.department}\"\n",
    "    def get_info(self):\n",
    "        return super().get_info() + f\", Department: {self.department}\"\n",
    "\n",
    "\n",
    "class Technician(Employee):\n",
    "    def __init__(self, name, emp_id, specialization):\n",
    "        Employee.__init__(self, name, emp_id)\n",
    "        self.specialization = specialization\n",
    "    def perform_maintenance(self, equipment):\n",
    "        return f\"Technician {self.name} with specialization in {self.specialization} is maintaining {equipment}\"\n",
    "    def get_info(self):\n",
    "        return super().get_info() + f\", Specialization: {self.specialization}\"\n",
    "\n",
    "class TechManager(Manager, Technician):\n",
    "    def __init__(self, name, emp_id, department, specialization):\n",
    "        Manager.__init__(self, name, emp_id, department)\n",
    "        Technician.__init__(self, name, emp_id, specialization)\n",
    "        self.team = []\n",
    "    def add_employee(self, employee):\n",
    "        self.team.append(employee)\n",
    "    def get_team_info(self):\n",
    "        if not self.team:\n",
    "            return f\"TechManager {self.name} has no employees in the team.\"\n",
    "        team_info = f\"TechManager {self.name}'s Team:\\n\"\n",
    "        for employee in self.team:\n",
    "            team_info += f\" - {employee.get_info()}\\n\"\n",
    "        return team_info\n",
    "    def get_info(self):\n",
    "        return f\"TechManager Info: {super().get_info()}\"\n",
    "\n",
    "employee = Employee(\"Pablos\", 1)\n",
    "print(employee.get_info())\n",
    "manager = Manager(\"Maksimov\", 31, \"Sell\")\n",
    "print(manager.get_info())\n",
    "print(manager.manage_project(\"Chill\"))\n",
    "technician = Technician(\"Papa\", 52, \"BOYYYYYY\")\n",
    "print(technician.get_info())\n",
    "print(technician.perform_maintenance(\"XZ\"))\n",
    "tech_manager = TechManager(\"BIg\", 21, \"IT\", \"programs\")\n",
    "tech_manager.add_employee(employee)\n",
    "tech_manager.add_employee(manager)\n",
    "tech_manager.add_employee(technician)\n",
    "print(tech_manager.get_info())\n",
    "print(tech_manager.get_team_info())\n",
    "print(tech_manager.manage_project(\"GIGA CHAD\"))\n",
    "print(tech_manager.perform_maintenance(\"7ds Grand cross\"))"
   ]
  },
  {
   "cell_type": "code",
   "execution_count": null,
   "id": "ed8c8add-6f97-42d4-8cf6-1486c04c1d9d",
   "metadata": {},
   "outputs": [],
   "source": []
  }
 ],
 "metadata": {
  "kernelspec": {
   "display_name": "Python 3 (ipykernel)",
   "language": "python",
   "name": "python3"
  },
  "language_info": {
   "codemirror_mode": {
    "name": "ipython",
    "version": 3
   },
   "file_extension": ".py",
   "mimetype": "text/x-python",
   "name": "python",
   "nbconvert_exporter": "python",
   "pygments_lexer": "ipython3",
   "version": "3.12.6"
  }
 },
 "nbformat": 4,
 "nbformat_minor": 5
}
